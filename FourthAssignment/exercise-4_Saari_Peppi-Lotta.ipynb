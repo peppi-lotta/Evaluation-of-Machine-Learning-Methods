{
 "cells": [
  {
   "cell_type": "markdown",
   "metadata": {},
   "source": [
    "# TKO_7092 Evaluation of Machine Learning Methods 2023\n",
    "\n",
    "## Exercise 4\n",
    "\n",
    "Complete the tasks given to you in the letter below. There are cells at the end of this notebook to which you are expected to write your code. Insert markdown cells as needed to describe your solution. Remember to follow all the general exercise guidelines stated in Moodle.\n",
    "\n",
    "The deadline of this exercise is **Wednesday 22 February 2023 at 23:59**. Please contact Juho Heimonen (juaheim@utu.fi) if you have any questions about this exercise.\n"
   ]
  },
  {
   "cell_type": "markdown",
   "metadata": {},
   "source": [
    "---\n",
    "\n",
    "Student name: Peppi-Lotta Saari\n",
    "\n",
    "Student number: 517334\n",
    "\n",
    "Student email: plsaar@utu.fi\n",
    "\n",
    "---\n"
   ]
  },
  {
   "cell_type": "markdown",
   "metadata": {},
   "source": [
    "Dear Data Scientist,\n",
    "\n",
    "I have a task for you that concerns drug molecules and their targets. I have spent a lot of time in a laboratory to measure how strongly potential drug molecules bind to putative target molecules. I do not have enough resources to measure all possible drug-target pairs, so I would like to first predict their affinities and then measure only the most promising ones. I have already managed to create a model which I believe is good for this purpose. Its details are below.\n",
    "\n",
    "- algorithm: K-nearest neighbours regressor\n",
    "- parameters: K=20\n",
    "- training data: all the pairs for which I have measured the affinity\n",
    "\n",
    "The data I used to create the model is available in the files `input.data`, `output.data` and `pairs.data` for you to use. The first file contains the features of the pairs, whereas the second contains their affinities. The third file contains the identifiers of the drug and target molecules of which the pairs are composed. The files are paired, i.e. the i<sup>*th*</sup> row in each file is about the same pair.\n",
    "\n",
    "I am not able to evaluate how well the model will perform if I use it to predict the affinities of new drug-target pairs. I need you to evaluate the model for me. There are three distinct situations in which I want to use this model in the future.\n",
    "\n",
    "1. Because I have only measured the affinities for some of the possible pairs of the currently known drugs and targets, I want to use the model to predict the affinities for the remaining pairs.\n",
    "2. I am confident that I will discover new potential drug molecules in the future, so I will want to use the model to predict their affinities to the currently known targets.\n",
    "3. Because new putative target molecules, too, will likely be identified in the future, I will also want to use the model to predict the affinities between the drug molecules I will discover and the target molecules somebody else will discover in the future.\n",
    "\n",
    "Please evaluate the generalisation performance of the model in these three situations. I need to get evaluation results from leave-one-out cross-validation with C-index. Also, because I'm worried that unreliable evaluation results will mislead me to waste precious resources, please explain why I can trust your results.\n",
    "\n",
    "\n",
    "Yours sincerely, \\\n",
    "Bio Scientist\n",
    "\n",
    "---"
   ]
  },
  {
   "cell_type": "markdown",
   "metadata": {},
   "source": [
    "#### Import libraries"
   ]
  },
  {
   "cell_type": "code",
   "execution_count": 71,
   "metadata": {},
   "outputs": [],
   "source": [
    "# Import the libraries you need.\n",
    "import numpy as np \n",
    "import pandas as pd \n",
    "from tqdm import tqdm\n",
    "from sklearn.neighbors import KNeighborsRegressor"
   ]
  },
  {
   "cell_type": "markdown",
   "metadata": {},
   "source": [
    "#### Load datasets"
   ]
  },
  {
   "cell_type": "code",
   "execution_count": 72,
   "metadata": {},
   "outputs": [
    {
     "data": {
      "text/html": [
       "<div>\n",
       "<style scoped>\n",
       "    .dataframe tbody tr th:only-of-type {\n",
       "        vertical-align: middle;\n",
       "    }\n",
       "\n",
       "    .dataframe tbody tr th {\n",
       "        vertical-align: top;\n",
       "    }\n",
       "\n",
       "    .dataframe thead th {\n",
       "        text-align: right;\n",
       "    }\n",
       "</style>\n",
       "<table border=\"1\" class=\"dataframe\">\n",
       "  <thead>\n",
       "    <tr style=\"text-align: right;\">\n",
       "      <th></th>\n",
       "      <th>0</th>\n",
       "      <th>1</th>\n",
       "      <th>2</th>\n",
       "      <th>3</th>\n",
       "      <th>4</th>\n",
       "      <th>5</th>\n",
       "      <th>6</th>\n",
       "      <th>7</th>\n",
       "      <th>8</th>\n",
       "      <th>9</th>\n",
       "      <th>...</th>\n",
       "      <th>2490</th>\n",
       "      <th>2491</th>\n",
       "      <th>2492</th>\n",
       "      <th>2493</th>\n",
       "      <th>2494</th>\n",
       "      <th>2495</th>\n",
       "      <th>2496</th>\n",
       "      <th>2497</th>\n",
       "      <th>2498</th>\n",
       "      <th>2499</th>\n",
       "    </tr>\n",
       "  </thead>\n",
       "  <tbody>\n",
       "    <tr>\n",
       "      <th>0</th>\n",
       "      <td>6.53771</td>\n",
       "      <td>7.04273</td>\n",
       "      <td>7.30593</td>\n",
       "      <td>7.04480</td>\n",
       "      <td>7.32600</td>\n",
       "      <td>7.15379</td>\n",
       "      <td>6.46464</td>\n",
       "      <td>7.33308</td>\n",
       "      <td>6.25152</td>\n",
       "      <td>7.29930</td>\n",
       "      <td>...</td>\n",
       "      <td>8.56873</td>\n",
       "      <td>7.90797</td>\n",
       "      <td>8.70878</td>\n",
       "      <td>8.28991</td>\n",
       "      <td>8.27096</td>\n",
       "      <td>7.65185</td>\n",
       "      <td>8.13150</td>\n",
       "      <td>8.13992</td>\n",
       "      <td>7.36155</td>\n",
       "      <td>7.98930</td>\n",
       "    </tr>\n",
       "    <tr>\n",
       "      <th>1</th>\n",
       "      <td>4.26878</td>\n",
       "      <td>4.05945</td>\n",
       "      <td>4.40541</td>\n",
       "      <td>4.73575</td>\n",
       "      <td>4.25489</td>\n",
       "      <td>4.61444</td>\n",
       "      <td>4.72028</td>\n",
       "      <td>4.71408</td>\n",
       "      <td>5.43478</td>\n",
       "      <td>4.75449</td>\n",
       "      <td>...</td>\n",
       "      <td>7.55949</td>\n",
       "      <td>7.61247</td>\n",
       "      <td>6.60946</td>\n",
       "      <td>6.61113</td>\n",
       "      <td>6.97087</td>\n",
       "      <td>7.23425</td>\n",
       "      <td>6.57285</td>\n",
       "      <td>8.38097</td>\n",
       "      <td>6.80756</td>\n",
       "      <td>7.12181</td>\n",
       "    </tr>\n",
       "    <tr>\n",
       "      <th>2</th>\n",
       "      <td>7.24802</td>\n",
       "      <td>5.96468</td>\n",
       "      <td>7.02855</td>\n",
       "      <td>6.52784</td>\n",
       "      <td>7.38776</td>\n",
       "      <td>7.43236</td>\n",
       "      <td>6.06098</td>\n",
       "      <td>7.68345</td>\n",
       "      <td>6.91821</td>\n",
       "      <td>8.41192</td>\n",
       "      <td>...</td>\n",
       "      <td>6.68409</td>\n",
       "      <td>6.10721</td>\n",
       "      <td>7.84371</td>\n",
       "      <td>7.20765</td>\n",
       "      <td>7.60826</td>\n",
       "      <td>6.05150</td>\n",
       "      <td>7.23766</td>\n",
       "      <td>6.75104</td>\n",
       "      <td>5.72958</td>\n",
       "      <td>6.73456</td>\n",
       "    </tr>\n",
       "    <tr>\n",
       "      <th>3</th>\n",
       "      <td>3.00092</td>\n",
       "      <td>3.33087</td>\n",
       "      <td>3.57794</td>\n",
       "      <td>3.31246</td>\n",
       "      <td>3.43355</td>\n",
       "      <td>3.35872</td>\n",
       "      <td>3.32773</td>\n",
       "      <td>3.29331</td>\n",
       "      <td>5.89109</td>\n",
       "      <td>3.39740</td>\n",
       "      <td>...</td>\n",
       "      <td>2.87020</td>\n",
       "      <td>5.68182</td>\n",
       "      <td>2.57248</td>\n",
       "      <td>3.01052</td>\n",
       "      <td>2.79974</td>\n",
       "      <td>2.93089</td>\n",
       "      <td>2.81599</td>\n",
       "      <td>2.74684</td>\n",
       "      <td>2.93389</td>\n",
       "      <td>2.76753</td>\n",
       "    </tr>\n",
       "    <tr>\n",
       "      <th>4</th>\n",
       "      <td>4.34096</td>\n",
       "      <td>3.79832</td>\n",
       "      <td>5.67286</td>\n",
       "      <td>4.20168</td>\n",
       "      <td>4.74336</td>\n",
       "      <td>4.97859</td>\n",
       "      <td>3.56746</td>\n",
       "      <td>4.55088</td>\n",
       "      <td>4.30942</td>\n",
       "      <td>3.99160</td>\n",
       "      <td>...</td>\n",
       "      <td>2.72576</td>\n",
       "      <td>2.80786</td>\n",
       "      <td>3.01114</td>\n",
       "      <td>2.87061</td>\n",
       "      <td>3.12170</td>\n",
       "      <td>2.92398</td>\n",
       "      <td>3.26003</td>\n",
       "      <td>2.70133</td>\n",
       "      <td>2.87879</td>\n",
       "      <td>2.64117</td>\n",
       "    </tr>\n",
       "  </tbody>\n",
       "</table>\n",
       "<p>5 rows × 2500 columns</p>\n",
       "</div>"
      ],
      "text/plain": [
       "      0        1        2        3        4        5        6        7     \\\n",
       "0  6.53771  7.04273  7.30593  7.04480  7.32600  7.15379  6.46464  7.33308   \n",
       "1  4.26878  4.05945  4.40541  4.73575  4.25489  4.61444  4.72028  4.71408   \n",
       "2  7.24802  5.96468  7.02855  6.52784  7.38776  7.43236  6.06098  7.68345   \n",
       "3  3.00092  3.33087  3.57794  3.31246  3.43355  3.35872  3.32773  3.29331   \n",
       "4  4.34096  3.79832  5.67286  4.20168  4.74336  4.97859  3.56746  4.55088   \n",
       "\n",
       "      8        9     ...     2490     2491     2492     2493     2494  \\\n",
       "0  6.25152  7.29930  ...  8.56873  7.90797  8.70878  8.28991  8.27096   \n",
       "1  5.43478  4.75449  ...  7.55949  7.61247  6.60946  6.61113  6.97087   \n",
       "2  6.91821  8.41192  ...  6.68409  6.10721  7.84371  7.20765  7.60826   \n",
       "3  5.89109  3.39740  ...  2.87020  5.68182  2.57248  3.01052  2.79974   \n",
       "4  4.30942  3.99160  ...  2.72576  2.80786  3.01114  2.87061  3.12170   \n",
       "\n",
       "      2495     2496     2497     2498     2499  \n",
       "0  7.65185  8.13150  8.13992  7.36155  7.98930  \n",
       "1  7.23425  6.57285  8.38097  6.80756  7.12181  \n",
       "2  6.05150  7.23766  6.75104  5.72958  6.73456  \n",
       "3  2.93089  2.81599  2.74684  2.93389  2.76753  \n",
       "4  2.92398  3.26003  2.70133  2.87879  2.64117  \n",
       "\n",
       "[5 rows x 2500 columns]"
      ]
     },
     "metadata": {},
     "output_type": "display_data"
    },
    {
     "data": {
      "text/html": [
       "<div>\n",
       "<style scoped>\n",
       "    .dataframe tbody tr th:only-of-type {\n",
       "        vertical-align: middle;\n",
       "    }\n",
       "\n",
       "    .dataframe tbody tr th {\n",
       "        vertical-align: top;\n",
       "    }\n",
       "\n",
       "    .dataframe thead th {\n",
       "        text-align: right;\n",
       "    }\n",
       "</style>\n",
       "<table border=\"1\" class=\"dataframe\">\n",
       "  <thead>\n",
       "    <tr style=\"text-align: right;\">\n",
       "      <th></th>\n",
       "      <th>0</th>\n",
       "    </tr>\n",
       "  </thead>\n",
       "  <tbody>\n",
       "    <tr>\n",
       "      <th>0</th>\n",
       "      <td>10000.0</td>\n",
       "    </tr>\n",
       "    <tr>\n",
       "      <th>1</th>\n",
       "      <td>10000.0</td>\n",
       "    </tr>\n",
       "    <tr>\n",
       "      <th>2</th>\n",
       "      <td>10000.0</td>\n",
       "    </tr>\n",
       "    <tr>\n",
       "      <th>3</th>\n",
       "      <td>10000.0</td>\n",
       "    </tr>\n",
       "    <tr>\n",
       "      <th>4</th>\n",
       "      <td>270.0</td>\n",
       "    </tr>\n",
       "  </tbody>\n",
       "</table>\n",
       "</div>"
      ],
      "text/plain": [
       "         0\n",
       "0  10000.0\n",
       "1  10000.0\n",
       "2  10000.0\n",
       "3  10000.0\n",
       "4    270.0"
      ]
     },
     "metadata": {},
     "output_type": "display_data"
    },
    {
     "data": {
      "text/html": [
       "<div>\n",
       "<style scoped>\n",
       "    .dataframe tbody tr th:only-of-type {\n",
       "        vertical-align: middle;\n",
       "    }\n",
       "\n",
       "    .dataframe tbody tr th {\n",
       "        vertical-align: top;\n",
       "    }\n",
       "\n",
       "    .dataframe thead th {\n",
       "        text-align: right;\n",
       "    }\n",
       "</style>\n",
       "<table border=\"1\" class=\"dataframe\">\n",
       "  <thead>\n",
       "    <tr style=\"text-align: right;\">\n",
       "      <th></th>\n",
       "      <th>0</th>\n",
       "      <th>1</th>\n",
       "    </tr>\n",
       "  </thead>\n",
       "  <tbody>\n",
       "    <tr>\n",
       "      <th>0</th>\n",
       "      <td>D23</td>\n",
       "      <td>T194</td>\n",
       "    </tr>\n",
       "    <tr>\n",
       "      <th>1</th>\n",
       "      <td>D9</td>\n",
       "      <td>T270</td>\n",
       "    </tr>\n",
       "    <tr>\n",
       "      <th>2</th>\n",
       "      <td>D3</td>\n",
       "      <td>T47</td>\n",
       "    </tr>\n",
       "    <tr>\n",
       "      <th>3</th>\n",
       "      <td>D49</td>\n",
       "      <td>T222</td>\n",
       "    </tr>\n",
       "    <tr>\n",
       "      <th>4</th>\n",
       "      <td>D37</td>\n",
       "      <td>T28</td>\n",
       "    </tr>\n",
       "  </tbody>\n",
       "</table>\n",
       "</div>"
      ],
      "text/plain": [
       "     0     1\n",
       "0  D23  T194\n",
       "1   D9  T270\n",
       "2   D3   T47\n",
       "3  D49  T222\n",
       "4  D37   T28"
      ]
     },
     "metadata": {},
     "output_type": "display_data"
    }
   ],
   "source": [
    "# Read the data files (input.data, output.data, pairs.data).\n",
    "features = pd.DataFrame(pd.read_table('input.data', header=None, delimiter=r\"\\s+\"))\n",
    "labels = pd.DataFrame(pd.read_table('output.data', header=None))\n",
    "pairs = pd.DataFrame(pd.read_table('pairs.data', header=None, delimiter=r\"\\s+\"))\n",
    "\n",
    "display(features.head())\n",
    "display(labels.head())\n",
    "display(pairs.head())"
   ]
  },
  {
   "cell_type": "markdown",
   "metadata": {},
   "source": [
    "#### Write functions"
   ]
  },
  {
   "cell_type": "code",
   "execution_count": 73,
   "metadata": {},
   "outputs": [],
   "source": [
    "# Write the functions you need to perform the requested cross-validations.\n",
    "\n",
    "# taken from first week's assignment\n",
    "def cindex(true_labels, pred_labels):\n",
    "    n = 0\n",
    "    h_num = 0 \n",
    "    for i in range(0, len(true_labels)):\n",
    "        t = true_labels[i]\n",
    "        p = pred_labels[i]\n",
    "        for j in range(i+1, len(true_labels)):\n",
    "            nt = true_labels[j]\n",
    "            np = pred_labels[j]\n",
    "            if (t != nt): \n",
    "                n = n + 1\n",
    "                if (p < np and t < nt) or (p > np and t > nt): \n",
    "                    h_num += 1\n",
    "                elif (p == np):\n",
    "                    h_num += 0.5\n",
    "    cindx =  h_num/n\n",
    "    return cindx"
   ]
  },
  {
   "cell_type": "code",
   "execution_count": 74,
   "metadata": {},
   "outputs": [],
   "source": [
    "#loop through the samples\n",
    "def make_predictions(test_features, train_features, test_labels, train_labels):\n",
    "\n",
    "        model = KNeighborsRegressor(n_neighbors=20)\n",
    "\n",
    "        # Train the model using the training sets\n",
    "        model.fit(train_features, train_labels)\n",
    "\n",
    "        #Predict Output\n",
    "        p = model.predict(test_features)\n",
    "        \n",
    "        return  p[0][0]\n",
    "        "
   ]
  },
  {
   "cell_type": "code",
   "execution_count": 75,
   "metadata": {},
   "outputs": [],
   "source": [
    "def loo_split(sample):\n",
    "    #separate a row from features to use as test set\n",
    "    test_features = features.iloc[[sample]]\n",
    "\n",
    "    #drop the testing row from the training set\n",
    "    train_features = features.drop([sample], axis=0)\n",
    "\n",
    "    #separate a row from labels to use as test labels\n",
    "    test_labels = labels.iloc[[sample]]\n",
    "\n",
    "    #drop the testing row from the training labels set\n",
    "    train_labels = labels.drop([sample], axis=0)\n",
    "        \n",
    "    # print(test_features, train_features, test_labels, train_labels)\n",
    "    return test_features, train_features, test_labels, train_labels"
   ]
  },
  {
   "cell_type": "code",
   "execution_count": 76,
   "metadata": {},
   "outputs": [],
   "source": [
    "def loo_cindex():\n",
    "    \n",
    "    predictions = []\n",
    "    \n",
    "    for sample in tqdm(range(0, features.shape[0])):\n",
    "        \n",
    "        test_features, train_features, test_labels, train_labels = loo_split(sample)\n",
    "        \n",
    "        prediction = make_predictions(test_features, train_features, test_labels, train_labels)\n",
    "        \n",
    "        predictions.append(prediction)\n",
    "        \n",
    "    return cindex(labels[0], predictions)"
   ]
  },
  {
   "cell_type": "code",
   "execution_count": 77,
   "metadata": {},
   "outputs": [],
   "source": [
    "def loo_pair1_split(sample):\n",
    "    \n",
    "    # get indexis of replica pair ones\n",
    "    replicas = pairs.loc[sample][0]\n",
    "    replica_inds = pairs[pairs[0] == replicas].index\n",
    "    \n",
    "    # test sets\n",
    "    test_features = features.iloc[[sample]]\n",
    "    test_labels = labels.iloc[[sample]]\n",
    "    \n",
    "    #train sets\n",
    "    train_features = features.drop(index=replica_inds)\n",
    "    train_labels = labels.drop(index=replica_inds)\n",
    "    \n",
    "    return  test_features, train_features, test_labels, train_labels"
   ]
  },
  {
   "cell_type": "code",
   "execution_count": 78,
   "metadata": {},
   "outputs": [],
   "source": [
    "def loo_pair1_cindex():\n",
    "    \n",
    "    predictions = []\n",
    "    \n",
    "    for sample in tqdm(range(0, features.shape[0])):\n",
    "        \n",
    "        test_features, train_features, test_labels, train_labels = loo_pair1_split(sample)\n",
    "        \n",
    "        prediction = make_predictions(test_features, train_features, test_labels, train_labels)\n",
    "        \n",
    "        predictions.append(prediction)\n",
    "        \n",
    "    return cindex(labels[0], predictions)"
   ]
  },
  {
   "cell_type": "code",
   "execution_count": 79,
   "metadata": {},
   "outputs": [],
   "source": [
    "def loo_both_pairs_split(sample):\n",
    "    #print(test_features, train_features, test_labels, train_labels)\n",
    "    # return test_features, train_features, test_labels, train_labels   \n",
    "    \n",
    "    # get indexis of replica pair ones\n",
    "    replicas_pair1 = pairs.loc[sample][0]\n",
    "    replicas_pair2 = pairs.loc[sample][1]\n",
    "    \n",
    "    replica_inds = pairs[(pairs[0] == replicas_pair1) | (pairs[1] == replicas_pair2)].index\n",
    "    \n",
    "    # test sets\n",
    "    test_features = features.iloc[[sample]]\n",
    "    test_labels = labels.iloc[[sample]]\n",
    "    \n",
    "    #train sets\n",
    "    train_features = features.drop(index=replica_inds)\n",
    "    train_labels = labels.drop(index=replica_inds)\n",
    "    \n",
    "    return  test_features, train_features, test_labels, train_labels"
   ]
  },
  {
   "cell_type": "code",
   "execution_count": 80,
   "metadata": {},
   "outputs": [],
   "source": [
    "def loo_both_pairs_cindex():\n",
    "    \n",
    "    predictions = []\n",
    "    \n",
    "    for sample in tqdm(range(0, features.shape[0])):\n",
    "        \n",
    "        test_features, train_features, test_labels, train_labels = loo_both_pairs_split(sample)\n",
    "        \n",
    "        prediction = make_predictions(test_features, train_features, test_labels, train_labels)\n",
    "        \n",
    "        predictions.append(prediction)\n",
    "        \n",
    "    return cindex(labels[0], predictions)"
   ]
  },
  {
   "cell_type": "markdown",
   "metadata": {},
   "source": [
    "#### Run cross-validations"
   ]
  },
  {
   "cell_type": "code",
   "execution_count": 81,
   "metadata": {},
   "outputs": [
    {
     "name": "stderr",
     "output_type": "stream",
     "text": [
      "100%|██████████████████████████████████████████████████████████████████████████████| 1500/1500 [03:12<00:00,  7.78it/s]\n"
     ]
    },
    {
     "name": "stdout",
     "output_type": "stream",
     "text": [
      "C-index for simple leave-one-out is  0.7753800149970941\n"
     ]
    }
   ],
   "source": [
    "# Run the requested cross-validations and print the results.\n",
    "# Because I have only measured the affinities for some of the possible pairs of the currently known drugs and targets, I want to use the model to predict the affinities for the remaining pairs.\n",
    "\n",
    "# Simple cross-validation\n",
    "\n",
    "print(\"C-index for simple leave-one-out is \", loo_cindex())"
   ]
  },
  {
   "cell_type": "code",
   "execution_count": 82,
   "metadata": {},
   "outputs": [
    {
     "name": "stderr",
     "output_type": "stream",
     "text": [
      "100%|██████████████████████████████████████████████████████████████████████████████| 1500/1500 [03:11<00:00,  7.81it/s]\n"
     ]
    },
    {
     "name": "stdout",
     "output_type": "stream",
     "text": [
      "C-index for drop replicas of pair 1 leave-one-out is  0.7004486294526061\n"
     ]
    }
   ],
   "source": [
    "# I am confident that I will discover new potential drug molecules in the future, so I will want to use the model to predict their affinities to the currently known targets.\n",
    "\n",
    "#cross-validation where we don't use the pair 1's duplicates for training\n",
    "\n",
    "print(\"C-index for drop replicas of pair 1 leave-one-out is \", loo_pair1_cindex())"
   ]
  },
  {
   "cell_type": "code",
   "execution_count": 83,
   "metadata": {},
   "outputs": [
    {
     "name": "stderr",
     "output_type": "stream",
     "text": [
      "100%|██████████████████████████████████████████████████████████████████████████████| 1500/1500 [03:04<00:00,  8.13it/s]\n"
     ]
    },
    {
     "name": "stdout",
     "output_type": "stream",
     "text": [
      "C-index for drop both pair of pair leave-one-out is  0.6763313587770585\n"
     ]
    }
   ],
   "source": [
    "# Because new putative target molecules, too, will likely be identified in the future, I will also want to use the model to predict the affinities between the drug molecules I will discover and the target molecules somebody else will discover in the future.\n",
    "\n",
    "#cross-validation where we don't use the pair 2's duplicates for training\n",
    "print(\"C-index for drop both pair of pair leave-one-out is \", loo_both_pairs_cindex())"
   ]
  },
  {
   "cell_type": "markdown",
   "metadata": {},
   "source": [
    "#### Interpret results"
   ]
  },
  {
   "cell_type": "markdown",
   "metadata": {},
   "source": [
    "######Interpret the results you obtained and explain why they can be trusted.\n",
    "Simple leave one out will tells us how well we can predict samples values when the pairs are formed from identifiers and target we already know. This cross-validation gives us the best result because the pairs are known and we have the most training data. Some of the trainig samples are connected to the test sample vie the identifier or the targer. So the constraint of independence is not fullfilled.<br>\n",
    "\n",
    "\n",
    "In the second leave-one-out we drop from training the rows where the identifier is the same as the test samples. This way we can simulate how the model will predict unknown identidiers to known targets. This is a bit worse than the basic leave-one out as we have less data and the samples we use are less connected. Some of the training samples are still connected to the test sample but only via their target values. <br>\n",
    "\n",
    "\n",
    "The last leave-one-out gets the worst results. Here we know the test samples are independent of the training data. We remove the coresponding identifierst and targets compared to the test sample. Here the constraint of independence is fullfilled. \n"
   ]
  },
  {
   "cell_type": "code",
   "execution_count": null,
   "metadata": {},
   "outputs": [],
   "source": []
  }
 ],
 "metadata": {
  "kernelspec": {
   "display_name": "Python 3 (ipykernel)",
   "language": "python",
   "name": "python3"
  },
  "language_info": {
   "codemirror_mode": {
    "name": "ipython",
    "version": 3
   },
   "file_extension": ".py",
   "mimetype": "text/x-python",
   "name": "python",
   "nbconvert_exporter": "python",
   "pygments_lexer": "ipython3",
   "version": "3.10.6"
  }
 },
 "nbformat": 4,
 "nbformat_minor": 4
}
