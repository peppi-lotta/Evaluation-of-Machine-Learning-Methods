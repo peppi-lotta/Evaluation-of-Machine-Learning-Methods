{
 "cells": [
  {
   "cell_type": "markdown",
   "metadata": {},
   "source": [
    "# TKO_2096 Applications of Data Analysis 2021\n",
    "## Exercise 4\n",
    "\n",
    "Complete the tasks given to you in the letter below. There are cells at the end of this notebook to which you are expected to write your code. Insert markdown cells as needed to describe your solution.\n",
    "\n",
    "The deadline of this exercise is **28.2.2021, 23:59 PM**. Please contact Juho Heimonen (juaheim@utu.fi) if you have any questions about this exercise.\n"
   ]
  },
  {
   "cell_type": "markdown",
   "metadata": {},
   "source": [
    "---\n",
    "\n",
    "Student name: Aleksi Laakso\n",
    "\n",
    "Student number: 518416 and PeppiID: 117551\n",
    "\n",
    "Student email: almlaa@utu.fi\n",
    "\n",
    "---\n"
   ]
  },
  {
   "cell_type": "markdown",
   "metadata": {},
   "source": [
    "Dear Data Scientist,\n",
    "\n",
    "I have a task for you that concerns drug molecules and their targets. I have spent a lot of time in a laboratory to measure how strongly potential drug molecules bind to putative target molecules. I do not have enough resources to measure all possible drug-target pairs, so I would like to first predict their affinities and then measure only the most promising ones. I have already managed to create a model which I believe is good for this purpose. Its details are below.\n",
    "\n",
    "- algorithm: K-nearest neighbours regressor\n",
    "- parameters: K=20\n",
    "- training data: full data set\n",
    "\n",
    "The full data set is available as the files `input.data`, `output.data` and `pairs.data` for you to use. The first file contains the features of pairs, whereas the second contains their affinities. The third file contains the identifiers of the drug and target molecules of which the pairs are composed. The files are paired, i.e. the i<sup>*th*</sup> row in each file is about the same pair.\n",
    "\n",
    "I am not able to evaluate how well my model will perform when I will use it to predict the affinities of new drug-target pairs. I need you to evaluate the model for me. There are three distinct situations in which I want to use this model in the future.\n",
    "\n",
    "1. I did not have the resources to measure the affinities of all the known drug-target pairs in the laboratory, so I want to use the model to predict the affinities of the remaining pairs.\n",
    "2. I am confident that I will discover new potential drug molecules in the future, so I will want to use the model to predict their affinities to the currently known targets.\n",
    "3. Because new putative target molecules, too, will likely be identified in the future, I will also want to use the model to predict the affinities between the drug molecules I will discover and the target molecules somebody else will discover in the future.\n",
    "\n",
    "I need to get evaluation results from leave-one-out cross-validation with C-index. Please evaluate the generalisation performance of my model in the three situations and explain why your cross-validation methods are suitable for them.\n",
    "\n",
    "\n",
    "Yours sincerely, \\\n",
    "Bio Scientist\n",
    "\n",
    "\n",
    "PS. Follow all the general exercise guidelines stated in Moodle.\n",
    "\n",
    "---"
   ]
  },
  {
   "cell_type": "markdown",
   "metadata": {},
   "source": [
    "#### Import libraries"
   ]
  },
  {
   "cell_type": "code",
   "execution_count": 1,
   "metadata": {},
   "outputs": [],
   "source": [
    "# Import the libraries you need.\n",
    "import numpy as np\n",
    "import pandas as pd\n",
    "from sklearn import neighbors"
   ]
  },
  {
   "cell_type": "markdown",
   "metadata": {},
   "source": [
    "#### Load datasets"
   ]
  },
  {
   "cell_type": "code",
   "execution_count": 2,
   "metadata": {},
   "outputs": [],
   "source": [
    "# Read the data files (input.data, output.data, pairs.data).\n",
    "input = pd.read_csv('input.data', sep=\" \", header=None)\n",
    "output = pd.read_csv('output.data', sep=\" \", header=None)\n",
    "pairs = pd.read_csv('pairs.data', sep=\" \", header=None)\n",
    "\n",
    "# Change input and output to numpy for easier handling\n",
    "input = input.to_numpy()\n",
    "output = output.to_numpy()"
   ]
  },
  {
   "cell_type": "markdown",
   "metadata": {},
   "source": [
    "#### Write functions"
   ]
  },
  {
   "cell_type": "code",
   "execution_count": 3,
   "metadata": {},
   "outputs": [],
   "source": [
    "# Write the functions you need to perform the requested cross-validations.\n",
    "# cindex function from ex. 2&3\n",
    "# true_labels an array of the true output values\n",
    "# pred_labels an array of predicted output values\n",
    "# return c-index\n",
    "def cindex(true_labels, pred_labels):\n",
    "    #init n and pairs\n",
    "    n = 0\n",
    "    pairs = 0\n",
    "    for i in range(0, len(true_labels)):\n",
    "        #true label p1 and predicted label p2 for it\n",
    "        p1 = true_labels[i] \n",
    "        p2 = pred_labels[i] \n",
    "        for j in range(i+1, len(true_labels)):\n",
    "            #next true label y1 and next prediction y2\n",
    "            y1 = true_labels[j] \n",
    "            y2 = pred_labels[j] \n",
    "            \n",
    "            # if true label differs from next true label then true\n",
    "            if (p1 != y1):\n",
    "                pairs = pairs + 1\n",
    "                if (p1 < y1 and p2 < y2) or (p1 > y1 and p2 > y2):\n",
    "                    n = n + 1\n",
    "                elif (p2 == y2):\n",
    "                    n += 0.5\n",
    "    return n/pairs\n",
    "\n",
    "#regular loocv for 1)\n",
    "def loocv(input, output):\n",
    "    k = 20\n",
    "    \n",
    "    # init empty list for predictions and K-Nearest Neighbor Regressor\n",
    "    predictions = []\n",
    "    neigh = neighbors.KNeighborsRegressor(n_neighbors = k, metric = 'euclidean')\n",
    "    \n",
    "    # i:th index as test set\n",
    "    for i in range(len(input)):\n",
    "        \n",
    "        #train sets\n",
    "        X_Train = np.append(input[:i], input[i+1:], axis = 0)\n",
    "        Y_Train = np.append(output[:i], output[i+1:], axis = 0)\n",
    "        \n",
    "        #test set\n",
    "        X_Test = input[i]\n",
    "        \n",
    "        neigh.fit(X_Train, Y_Train)\n",
    "        predictions.append(neigh.predict([X_Test]))\n",
    "    \n",
    "    return cindex(output, predictions)\n",
    "\n",
    "# matrix where matrix[i,j] = is the row to which this pair belongs to\n",
    "# e.g. matrix[0,0] = 0 => pair D23 and T194 are related to output and input rows 0\n",
    "# NaN if the pair doesn't belong to any of the data rows\n",
    "def matrix(pairs):\n",
    "    \n",
    "    # Get all unique drugs and Targets\n",
    "    drugs = pairs.iloc[:,0].unique()\n",
    "    targets = pairs.iloc[:,1].unique()\n",
    "    \n",
    "    #create pandas dataframe so that there is row for every drug and column for every target\n",
    "    indices = pd.DataFrame(index=drugs, columns=targets)\n",
    "    \n",
    "    #loop through pairs and save row index to matrix\n",
    "    for i in range(len(pairs)):\n",
    "        indices[pairs.iloc[i,1]][pairs.iloc[i,0]] = i\n",
    "        \n",
    "    return indices\n",
    "\n",
    "# loocv for 2)\n",
    "def loocv_2 (input, output, matrix):\n",
    "    k = 20\n",
    "    \n",
    "    # init empty list for predictions and true value, and K-Nearest Neighbor Regressor\n",
    "    true_values = []\n",
    "    predictions = []\n",
    "    neigh = neighbors.KNeighborsRegressor(n_neighbors = k, metric = 'euclidean')\n",
    "    \n",
    "    #loop through all drugs\n",
    "    for i in range(matrix.shape[0]):\n",
    "        \n",
    "        #indices where i:th drug is paired\n",
    "        indices = matrix.iloc[i,:].dropna()\n",
    "        indices = indices.astype(int)\n",
    "        \n",
    "        X_Train = np.delete(input, indices, axis = 0)\n",
    "        Y_Train = np.delete(output, indices, axis = 0)\n",
    "        \n",
    "        X_Test = input[indices]\n",
    "        Y_Test = output[indices]\n",
    "        \n",
    "        neigh.fit(X_Train, Y_Train)\n",
    "        pred = neigh.predict(X_Test)\n",
    "        for pre in pred:\n",
    "            predictions.append(pre[0])\n",
    "        for real in Y_Test:\n",
    "            true_values.append(real[0])\n",
    "            \n",
    "    return cindex(true_values, predictions)\n",
    "\n",
    "# loocv for 3)\n",
    "def loocv_3(input, output, matrix):\n",
    "    k = 20\n",
    "    \n",
    "    # init empty list for predictions and true values and K-Nearest Neighbor Regressor\n",
    "    true_values = []\n",
    "    predictions = []\n",
    "    neigh = neighbors.KNeighborsRegressor(n_neighbors = k, metric = 'euclidean')\n",
    "    \n",
    "    #loop through all drugs\n",
    "    for i in range(matrix.shape[0]):\n",
    "        \n",
    "        #take i-th drug\n",
    "        indices_Drugs = matrix.iloc[i,:]\n",
    "        \n",
    "        #loop through targets\n",
    "        for j in range(matrix.shape[1]):\n",
    "            \n",
    "            #check that there is i-drug and j-target pair\n",
    "            if (np.isnan(indices_Drugs[j])):\n",
    "                continue\n",
    "            else:\n",
    "                #test sets\n",
    "                X_Test = input[indices_Drugs[j]]\n",
    "                Y_Test = output[indices_Drugs[j]]\n",
    "                \n",
    "                #indices where j:th target is paired\n",
    "                indices_Targets = matrix.iloc[:,j].dropna()\n",
    "                \n",
    "                #unique indices of rows that have i-drug or j-target\n",
    "                indices = np.unique(np.concatenate((indices_Drugs.dropna(), indices_Targets))).astype(int)\n",
    "                \n",
    "                #train sets                     \n",
    "                X_Train = np.delete(input, indices, axis = 0)\n",
    "                Y_Train = np.delete(output, indices, axis = 0)\n",
    "                \n",
    "                neigh.fit(X_Train, Y_Train)\n",
    "                pred = neigh.predict([X_Test])\n",
    "                predictions.append(pred)\n",
    "                true_values.append(Y_Test)\n",
    "                    \n",
    "    return cindex(true_values, predictions)"
   ]
  },
  {
   "cell_type": "markdown",
   "metadata": {},
   "source": [
    "#### Run cross-validations"
   ]
  },
  {
   "cell_type": "code",
   "execution_count": 4,
   "metadata": {},
   "outputs": [
    {
     "name": "stdout",
     "output_type": "stream",
     "text": [
      "Wall time: 163 ms\n"
     ]
    }
   ],
   "source": [
    "# Run the requested cross-validations and print the results.\n",
    "%time matrix = matrix(pairs)"
   ]
  },
  {
   "cell_type": "code",
   "execution_count": 5,
   "metadata": {},
   "outputs": [
    {
     "name": "stdout",
     "output_type": "stream",
     "text": [
      "c-index for c_1 aka type A: 0.7753800149970941\n",
      "Wall time: 40.8 s\n"
     ]
    }
   ],
   "source": [
    "%%time\n",
    "#1)\n",
    "c_1 = loocv(input, output)\n",
    "print('c-index for c_1 aka type A:', c_1)"
   ]
  },
  {
   "cell_type": "code",
   "execution_count": 6,
   "metadata": {},
   "outputs": [
    {
     "name": "stdout",
     "output_type": "stream",
     "text": [
      "c-index for c_2 aka type B or C: 0.7003789608003829\n",
      "Wall time: 2.47 s\n"
     ]
    }
   ],
   "source": [
    "%%time\n",
    "#2)\n",
    "c_2 = loocv_2(input, output, matrix)\n",
    "print('c-index for c_2 aka type B or C:', c_2)"
   ]
  },
  {
   "cell_type": "code",
   "execution_count": 7,
   "metadata": {},
   "outputs": [
    {
     "name": "stdout",
     "output_type": "stream",
     "text": [
      "c-index for c_3 aka type D: 0.6763313587770585\n",
      "Wall time: 53.7 s\n"
     ]
    }
   ],
   "source": [
    "%%time\n",
    "#3)\n",
    "c_3 = loocv_3(input, output, matrix)\n",
    "print('c-index for c_3 aka type D:', c_3)"
   ]
  },
  {
   "cell_type": "markdown",
   "metadata": {},
   "source": [
    "#### Interpret results"
   ]
  },
  {
   "cell_type": "code",
   "execution_count": 8,
   "metadata": {},
   "outputs": [],
   "source": [
    "# Interpret the results you obtained and explain why your cross-validation methods work.\n",
    "\n",
    "# All in all the results look reasonable because they're in the correct order c_1 > c_2 > c_3\n",
    "# I used euclidean distance as metric for KNN as it was used in last excercises\n",
    "\n",
    "# (regular) loocv is suitable for case one as we have information of the drug-target pairs\n",
    "# loocv_2 could be used to predict on new drugs because the model was trained with known targets and without \n",
    "# information about drugs\n",
    "# loocv_3 could be used with new drugs and targets because the model was trained without old information of them\n"
   ]
  }
 ],
 "metadata": {
  "kernelspec": {
   "display_name": "Python 3",
   "language": "python",
   "name": "python3"
  },
  "language_info": {
   "codemirror_mode": {
    "name": "ipython",
    "version": 3
   },
   "file_extension": ".py",
   "mimetype": "text/x-python",
   "name": "python",
   "nbconvert_exporter": "python",
   "pygments_lexer": "ipython3",
   "version": "3.8.8"
  },
  "toc": {
   "base_numbering": 1,
   "nav_menu": {},
   "number_sections": false,
   "sideBar": true,
   "skip_h1_title": false,
   "title_cell": "Table of Contents",
   "title_sidebar": "Contents",
   "toc_cell": false,
   "toc_position": {},
   "toc_section_display": true,
   "toc_window_display": true
  },
  "varInspector": {
   "cols": {
    "lenName": 16,
    "lenType": 16,
    "lenVar": 40
   },
   "kernels_config": {
    "python": {
     "delete_cmd_postfix": "",
     "delete_cmd_prefix": "del ",
     "library": "var_list.py",
     "varRefreshCmd": "print(var_dic_list())"
    },
    "r": {
     "delete_cmd_postfix": ") ",
     "delete_cmd_prefix": "rm(",
     "library": "var_list.r",
     "varRefreshCmd": "cat(var_dic_list()) "
    }
   },
   "types_to_exclude": [
    "module",
    "function",
    "builtin_function_or_method",
    "instance",
    "_Feature"
   ],
   "window_display": false
  }
 },
 "nbformat": 4,
 "nbformat_minor": 2
}
